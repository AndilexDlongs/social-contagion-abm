{
 "cells": [
  {
   "cell_type": "code",
   "execution_count": 253,
   "id": "dd3a8f0f",
   "metadata": {},
   "outputs": [],
   "source": [
    "import numpy as np\n",
    "import pandas as pd\n",
    "import seaborn as sns\n",
    "import mesa\n",
    "from mesa.discrete_space import CellAgent, OrthogonalMooreGrid\n",
    "from mesa.datacollection import DataCollector\n",
    "from mesa.visualization import SolaraViz, SpaceRenderer, make_plot_component\n",
    "from mesa.visualization.components import AgentPortrayalStyle\n"
   ]
  },
  {
   "cell_type": "code",
   "execution_count": 254,
   "id": "3d779edc",
   "metadata": {},
   "outputs": [],
   "source": [
    "class Party:\n",
    "    def __init__(self, name, LawAndOrder, EconomicEquality, SocialWelfare, radius):\n",
    "        self.name = name\n",
    "        self.LawAndOrder = LawAndOrder\n",
    "        self.EconomicEquality = EconomicEquality\n",
    "        self.SocialWelfare = SocialWelfare\n",
    "        self.radius = radius  # how tolerant/inclusive the party is\n",
    "\n",
    "    def center_vector(self):\n",
    "        \"\"\"Return the party's attribute profile as a vector.\"\"\"\n",
    "        return np.array([self.LawAndOrder, self.EconomicEquality, self.SocialWelfare])\n"
   ]
  },
  {
   "cell_type": "code",
   "execution_count": 255,
   "id": "244c9be8",
   "metadata": {},
   "outputs": [],
   "source": [
    "class VoterAgent(CellAgent): \n",
    "    \"\"\" Voter agent with attributes and a party preference. \"\"\"\n",
    "\n",
    "    def __init__(self, model, cell):\n",
    "        super().__init__(model)\n",
    "        # Attributes (named for clarity)\n",
    "        self.LawAndOrder = np.random.uniform(0, 100)\n",
    "        self.EconomicEquality = np.random.uniform(0, 100)\n",
    "        self.SocialWelfare = np.random.uniform(0, 100)\n",
    "\n",
    "        self.party_affiliation = \"Undecided\"\n",
    "        self.susceptibility = np.random.uniform(0, 1)\n",
    "        self.switched_this_step = False\n",
    "        self.has_interacted = False\n",
    "        self.cell = cell\n",
    "\n",
    "    # ---------------------------\n",
    "    # Helper methods\n",
    "    # ---------------------------\n",
    "\n",
    "    def belief_vector(self):\n",
    "        return np.array([self.LawAndOrder, self.EconomicEquality, self.SocialWelfare])\n",
    "\n",
    "    def update_from_vector(self, vec):\n",
    "        self.LawAndOrder, self.EconomicEquality, self.SocialWelfare = vec\n",
    "\n",
    "    def assign_party(self):\n",
    "        \"\"\"Check which party (if any) the agent belongs to.\"\"\"\n",
    "        for p in self.model.parties:\n",
    "            if np.linalg.norm(self.belief_vector() - p.center_vector()) <= p.radius:\n",
    "                return p.name\n",
    "        return \"Undecided\"\n",
    "    \n",
    "    def party_center(self):\n",
    "        if self.party_affiliation == \"Undecided\":\n",
    "            return self.belief_vector()\n",
    "        for p in self.model.parties:\n",
    "            if p.name == self.party_affiliation:\n",
    "                return p.center_vector()\n",
    "\n",
    "    \n",
    "\n",
    "    def move(self):\n",
    "        \"\"\" Move to a random neighboring cell. \"\"\"    \n",
    "        self.cell = self.cell.neighborhood.select_random_cell()\n",
    "\n",
    "    \n",
    "    # ---------------------------\n",
    "    # Interaction Rules\n",
    "    # ---------------------------\n",
    "\n",
    "    def mutual_persuasion(self, other):\n",
    "        delta = min(self.susceptibility, other.susceptibility)\n",
    "        new_self = self.belief_vector() + delta * (other.belief_vector() - self.belief_vector())\n",
    "        new_other = other.belief_vector() + delta * (self.belief_vector() - other.belief_vector())\n",
    "        return new_self, new_other\n",
    "\n",
    "    def other_convinces_self(self, other):\n",
    "        new_self = self.belief_vector() + self.susceptibility * (other.belief_vector() - self.belief_vector())\n",
    "        reinforce = (other.party_center() - other.belief_vector())\n",
    "        new_other = other.belief_vector() + other.susceptibility * reinforce\n",
    "        return new_self, new_other\n",
    "\n",
    "    def self_convinces_other(self, other):\n",
    "        new_other = other.belief_vector() + other.susceptibility * (self.belief_vector() - other.belief_vector())\n",
    "        reinforce = (self.party_center() - self.belief_vector())\n",
    "        new_self = self.belief_vector() + self.susceptibility * reinforce\n",
    "        return new_self, new_other\n",
    "\n",
    "    def disagreement(self, other):\n",
    "        diff = self.belief_vector() - other.belief_vector()\n",
    "        new_self = self.belief_vector() + (1 - self.susceptibility) * diff\n",
    "        new_other = other.belief_vector() - (1 - other.susceptibility) * diff\n",
    "        return new_self, new_other\n",
    "\n",
    "    def choose_rule(self, other):\n",
    "        \"\"\"Decide which interaction rule to apply based on susceptibility.\"\"\"\n",
    "        if self.susceptibility > 0.3 and other.susceptibility > 0.3:\n",
    "            return \"mutual\"\n",
    "        elif self.susceptibility > 0.7 and other.susceptibility < 0.3:\n",
    "            return \"otherconvince\"\n",
    "        elif self.susceptibility < 0.3 and other.susceptibility > 0.7:\n",
    "            return \"selfconvince\"\n",
    "        else:\n",
    "            return \"disagree\"\n",
    "    \n",
    "    # dictionary to define interaction rules\n",
    "    interaction_rules = {\n",
    "    \"mutual\": mutual_persuasion,\n",
    "    \"otherconvince\": other_convinces_self,\n",
    "    \"selfconvince\": self_convinces_other,\n",
    "    \"disagree\": disagreement,\n",
    "    }\n",
    "\n",
    "    # def media_influence(self, media_bias):\n",
    "    #    \"\"\" Influence from media. \"\"\"\n",
    "    #    self.political_bias = self.political_bias + self.susceptibility * media_bias\n",
    "\n",
    "    def policy_influence(self, other):\n",
    "        rule = self.choose_rule(other)\n",
    "        new_self, new_other = self.interaction_rules[rule](self, other)\n",
    "\n",
    "        # Update beliefs (clamp between 0–100)\n",
    "        self.update_from_vector(np.clip(new_self, 0, 100))\n",
    "        other.update_from_vector(np.clip(new_other, 0, 100))\n",
    "\n",
    "        # Update party affiliation\n",
    "        old_party = self.party_affiliation\n",
    "        self.party_affiliation = self.assign_party()\n",
    "        self.switched_this_step = (self.party_affiliation != old_party)\n",
    "\n",
    "    # ---------------------------\n",
    "    # Step control\n",
    "    # ---------------------------\n",
    "    \n",
    "    def interact(self):\n",
    "        if self.has_interacted:\n",
    "            return\n",
    "\n",
    "        others = [a for a in self.cell.agents if a != self and not a.has_interacted]\n",
    "        if others:\n",
    "            other = self.random.choice(others)\n",
    "            self.policy_influence(other)\n",
    "\n",
    "            # mark both as having interacted\n",
    "            self.has_interacted = True\n",
    "            other.has_interacted = True\n",
    "\n",
    "    def reset(self):\n",
    "        \"\"\"Reset interaction flag for this agent.\"\"\"\n",
    "        self.has_interacted = False\n",
    "        self.switched_this_step = False\n",
    "\n",
    "    def __repr__(self):\n",
    "        return (f\"Law&Order: {self.LawAndOrder:.1f}, \"\n",
    "                f\"EconEquality: {self.EconomicEquality:.1f}, \"\n",
    "                f\"SocWelfare: {self.SocialWelfare:.1f}, \"\n",
    "                f\"Party: {self.party_affiliation}\")"
   ]
  },
  {
   "cell_type": "code",
   "execution_count": null,
   "id": "c3685b92",
   "metadata": {},
   "outputs": [],
   "source": []
  },
  {
   "cell_type": "code",
   "execution_count": 256,
   "id": "91790eb9",
   "metadata": {},
   "outputs": [],
   "source": [
    "def num_switches(model):\n",
    "    return sum(1 for a in model.agents if getattr(a, \"switched_this_step\", False))\n",
    "\n",
    "def num_interactions(model):\n",
    "    # count how many agents have interacted this step\n",
    "    interacted = sum(1 for a in model.agents if getattr(a, \"has_interacted\", False))\n",
    "    # each interaction sets two agents → divide by 2\n",
    "    return interacted // 2"
   ]
  },
  {
   "cell_type": "code",
   "execution_count": 257,
   "id": "57e18438",
   "metadata": {},
   "outputs": [],
   "source": [
    "class Environment(mesa.Model):\n",
    "    \"\"\"Environment with agents, parties, and interactions.\"\"\"\n",
    "\n",
    "    def __init__(self, n=5, width=3, height=3, seed=None):\n",
    "        super().__init__()\n",
    "        self.seed = seed\n",
    "        self.num_agents = n\n",
    "        self.grid = OrthogonalMooreGrid(\n",
    "            (width, height), \n",
    "            torus=True, \n",
    "            capacity=10, \n",
    "            random=self.random\n",
    "        )\n",
    "\n",
    "        # Attributes\n",
    "        self.attribute_names = [\"LawAndOrder\", \"EconomicEquality\", \"SocialWelfare\"]\n",
    "        self.belief_dim = len(self.attribute_names)\n",
    "        self.neutral_center = np.array([50] * self.belief_dim)\n",
    "\n",
    "        # Parties\n",
    "        self.parties = [\n",
    "            Party(\"Conservatism\", LawAndOrder=80, EconomicEquality=20, SocialWelfare=40, radius=25),\n",
    "            Party(\"Socialism\",    LawAndOrder=30, EconomicEquality=80, SocialWelfare=70, radius=25),\n",
    "            Party(\"Liberalism\",   LawAndOrder=50, EconomicEquality=50, SocialWelfare=80, radius=25),\n",
    "        ]\n",
    "\n",
    "\n",
    "        VoterAgent.create_agents(\n",
    "            self,\n",
    "            self.num_agents,\n",
    "            self.random.choices(self.grid.all_cells.cells, k=self.num_agents),\n",
    "        )\n",
    "\n",
    "        self.datacollector = DataCollector(\n",
    "            model_reporters={\n",
    "                \"num_switches\": num_switches,\n",
    "                \"num_interactions\": num_interactions,\n",
    "            },\n",
    "            agent_reporters={\n",
    "                \"belief_vector\": lambda a: a.belief_vector().tolist(),\n",
    "                \"party\": lambda a: a.party_affiliation,\n",
    "                \"susceptibility\": lambda a: a.susceptibility,\n",
    "                \"switched\": lambda a: a.switched_this_step,\n",
    "                \"has_interacted\": lambda a: a.has_interacted,\n",
    "            },\n",
    "        )\n",
    "\n",
    "        self.datacollector.collect(self)\n",
    "\n",
    "\n",
    "    def step(self):\n",
    "        \"\"\" Advance the model by one step. \"\"\"\n",
    "        self.agents.shuffle_do(\"move\")\n",
    "        self.agents.shuffle_do(\"reset\")\n",
    "        self.agents.shuffle_do(\"interact\")\n",
    "        self.datacollector.collect(self)\n",
    "\n",
    "    # def media_campaign(self, bias):\n",
    "    #    \"\"\" Conduct a media campaign with a specific bias. \"\"\"\n",
    "    #   self.agents.do(\"media_influence\", bias)\n",
    "        "
   ]
  },
  {
   "cell_type": "code",
   "execution_count": 258,
   "id": "35aec8ad",
   "metadata": {},
   "outputs": [
    {
     "data": {
      "image/png": "[encoded data removed]",
      "text/plain": [
       "<Figure size 600x500 with 1 Axes>"
      ]
     },
     "metadata": {},
     "output_type": "display_data"
    }
   ],
   "source": [
    "environment = Environment(100, 10, 10)\n",
    "\n",
    "# Collect each agent's initial party affiliation\n",
    "initial_votes = [agent.party_affiliation for agent in environment.agents]\n",
    "\n",
    "# Count frequencies by party name\n",
    "initial_vote_counts = pd.Series(initial_votes).value_counts().sort_index()\n",
    "\n",
    "# Plot\n",
    "p = sns.barplot(x=initial_vote_counts.index, y=initial_vote_counts.values)\n",
    "p.set(title=\"Initial Party Affiliations\", xlabel=\"Party\", ylabel=\"Number of Agents\")\n",
    "p.figure.set_size_inches(6, 5)\n"
   ]
  },
  {
   "cell_type": "code",
   "execution_count": 259,
   "id": "cb12572b",
   "metadata": {},
   "outputs": [
    {
     "data": {
      "image/png": "[encoded data removed]",
      "text/plain": [
       "<Figure size 500x500 with 1 Axes>"
      ]
     },
     "metadata": {},
     "output_type": "display_data"
    }
   ],
   "source": [
    "agent_counts = np.zeros((environment.grid.width, environment.grid.height))\n",
    "\n",
    "for cell in environment.grid.all_cells:\n",
    "    agent_counts[cell.coordinate] = len(cell.agents)\n",
    "# Plot using seaborn, with a visual size of 5x5\n",
    "g = sns.heatmap(agent_counts, cmap=\"viridis\", annot=True, cbar=False, square=True)\n",
    "g.figure.set_size_inches(5, 5)\n",
    "g.set(title=\"Number of agents on each cell of the grid\");"
   ]
  },
  {
   "cell_type": "code",
   "execution_count": 260,
   "id": "d3df0251",
   "metadata": {},
   "outputs": [],
   "source": [
    "for _ in range(100):\n",
    "    environment.step()  "
   ]
  },
  {
   "cell_type": "code",
   "execution_count": 261,
   "id": "a0879212",
   "metadata": {},
   "outputs": [
    {
     "data": {
      "image/png": "[encoded data removed]",
      "text/plain": [
       "<Figure size 500x500 with 1 Axes>"
      ]
     },
     "metadata": {},
     "output_type": "display_data"
    }
   ],
   "source": [
    "agent_counts = np.zeros((environment.grid.width, environment.grid.height))\n",
    "\n",
    "for cell in environment.grid.all_cells:\n",
    "    agent_counts[cell.coordinate] = len(cell.agents)\n",
    "# Plot using seaborn, with a visual size of 5x5\n",
    "g = sns.heatmap(agent_counts, cmap=\"viridis\", annot=True, cbar=False, square=True)\n",
    "g.figure.set_size_inches(5, 5)\n",
    "g.set(title=\"Number of agents on each cell of the grid\");"
   ]
  },
  {
   "cell_type": "code",
   "execution_count": 262,
   "id": "08984fd5",
   "metadata": {},
   "outputs": [
    {
     "data": {
      "image/png": "[encoded data removed]",
      "text/plain": [
       "<Figure size 600x500 with 1 Axes>"
      ]
     },
     "metadata": {},
     "output_type": "display_data"
    }
   ],
   "source": [
    "# Collect each agent's initial party affiliation\n",
    "initial_votes = [agent.party_affiliation for agent in environment.agents]\n",
    "\n",
    "# Count frequencies by party name\n",
    "initial_vote_counts = pd.Series(initial_votes).value_counts().sort_index()\n",
    "\n",
    "# Plot\n",
    "p = sns.barplot(x=initial_vote_counts.index, y=initial_vote_counts.values)\n",
    "p.set(title=\"Initial Party Affiliations\", xlabel=\"Party\", ylabel=\"Number of Agents\")\n",
    "p.figure.set_size_inches(6, 5)\n"
   ]
  },
  {
   "cell_type": "markdown",
   "id": "ae3137ab",
   "metadata": {},
   "source": [
    "## Dynamic Visualisation"
   ]
  },
  {
   "cell_type": "code",
   "execution_count": 263,
   "id": "6ea9e0f0",
   "metadata": {},
   "outputs": [],
   "source": [
    "def agent_portrayal(agent):\n",
    "    return AgentPortrayalStyle(color=\"tab:orange\", size=50)\n",
    "\n",
    "social_contagion = Environment(n=5, width=3, height=3)  # keyword arguments"
   ]
  },
  {
   "cell_type": "code",
   "execution_count": 264,
   "id": "4af6c0f2",
   "metadata": {},
   "outputs": [],
   "source": [
    "model_params = {\n",
    "    \"n\": {\n",
    "        \"type\": \"SliderInt\",\n",
    "        \"value\": 50,\n",
    "        \"label\": \"Number of agents:\",\n",
    "        \"min\": 3,\n",
    "        \"max\": 6,\n",
    "        \"step\": 1,\n",
    "    },\n",
    "    \"width\": {\n",
    "        \"type\": \"SliderInt\",\n",
    "        \"value\": 3,\n",
    "        \"label\": \"Width of Grid:\",\n",
    "        \"min\": 2,\n",
    "        \"max\": 6,\n",
    "        \"step\": 1,\n",
    "    },\n",
    "    \"height\": {\n",
    "        \"type\": \"SliderInt\",\n",
    "        \"value\": 3,\n",
    "        \"label\": \"Height of Grid:\",\n",
    "        \"min\": 2,\n",
    "        \"max\": 6,\n",
    "        \"step\": 1,\n",
    "    }\n",
    "}"
   ]
  },
  {
   "cell_type": "code",
   "execution_count": 265,
   "id": "7b018873",
   "metadata": {},
   "outputs": [],
   "source": [
    "%%capture\n",
    "\n",
    "renderer = SpaceRenderer(model=social_contagion, backend=\"matplotlib\")\n",
    "renderer.draw_structure(lw=2, ls=\"solid\", color=\"black\", alpha=0.1)\n",
    "renderer.draw_agents(agent_portrayal)"
   ]
  },
  {
   "cell_type": "code",
   "execution_count": 266,
   "id": "9f6ba545",
   "metadata": {},
   "outputs": [],
   "source": [
    "def post_process(ax):\n",
    "    \"\"\"Customize the matplotlib axes after rendering.\"\"\"\n",
    "    ax.set_title(\"Social Contagion Model\")\n",
    "    ax.set_xlabel(\"x\")\n",
    "    ax.set_ylabel(\"y\")\n",
    "    ax.grid(True, which=\"both\", linestyle=\"--\", linewidth=0.5, alpha=0.5)\n",
    "    ax.set_aspect(\"equal\", adjustable=\"box\")\n",
    "\n",
    "\n",
    "renderer.post_process = post_process"
   ]
  },
  {
   "cell_type": "code",
   "execution_count": 267,
   "id": "8bf22cf0",
   "metadata": {},
   "outputs": [
    {
     "data": {
      "application/vnd.jupyter.widget-view+json": {
       "model_id": "92dc3354d7ff4e489a7f08021ffcc102",
       "version_major": 2,
       "version_minor": 0
      },
      "text/html": [
       "Cannot show widget. You probably want to rerun the code cell above (<i>Click in the code cell, and press Shift+Enter <kbd>⇧</kbd>+<kbd>↩</kbd></i>)."
      ],
      "text/plain": [
       "Cannot show ipywidgets in text"
      ]
     },
     "metadata": {},
     "output_type": "display_data"
    }
   ],
   "source": [
    "page = SolaraViz(\n",
    "    social_contagion,\n",
    "    renderer,\n",
    "    #components=[BiasPlot],\n",
    "    model_params=model_params,\n",
    "    name=\"Social Contagion ABM\",\n",
    ")\n",
    "\n",
    "# This is required to render the visualization in a Jupyter notebook\n",
    "page"
   ]
  },
  {
   "cell_type": "code",
   "execution_count": null,
   "id": "f879731e",
   "metadata": {},
   "outputs": [],
   "source": []
  }
 ],
 "metadata": {
  "kernelspec": {
   "display_name": "Python 3",
   "language": "python",
   "name": "python3"
  },
  "language_info": {
   "codemirror_mode": {
    "name": "ipython",
    "version": 3
   },
   "file_extension": ".py",
   "mimetype": "text/x-python",
   "name": "python",
   "nbconvert_exporter": "python",
   "pygments_lexer": "ipython3",
   "version": "3.13.7"
  }
 },
 "nbformat": 4,
 "nbformat_minor": 5
}
